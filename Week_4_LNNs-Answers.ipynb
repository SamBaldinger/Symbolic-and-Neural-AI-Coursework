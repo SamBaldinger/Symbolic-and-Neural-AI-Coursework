{
 "cells": [
  {
   "cell_type": "markdown",
   "id": "e8c02827",
   "metadata": {
    "tags": []
   },
   "source": [
    "# Propositional Logic Experiment\n",
    "\n",
    "In this notebook, we will test your skills on using the LNN in a propositional setting. You will be required to use your knowledge about per-node reasoning and bounds to complete the code and answer the query. There is a very similar problem at [url], and if you complete that, you will be able to apply for the IBM Neurosymbolic Essentials Badge."
   ]
  },
  {
   "cell_type": "markdown",
   "id": "d3d654ce",
   "metadata": {
    "tags": []
   },
   "source": [
    "### Instructions\n",
    "\n",
    "1. _Use_ the illustrations given as a guide on how to reason with an LNN graph\n",
    "\n",
    "2. _Fill_ in code that will evaluate the correct truth values expected from performing logical inference\n",
    "\n",
    "3. _Query_ the logical disjunction between nodes C, D and E"
   ]
  },
  {
   "cell_type": "markdown",
   "id": "bc6dacd0",
   "metadata": {},
   "source": [
    "### Propositional Inference\n",
    "\n",
    "Recall that a proposition is any declarative sentence that allows you to associate a truth value with the atomic formulae. An LNN graph can hierarchically compose these propositions using logical connectives and reason over their respective truths. Evaluating a particular node requires an upward/downward inference pass.\n",
    "\n",
    "Suppose that you are given the following LNN graph:\n",
    "\n",
    "\n",
    "where the following beliefs are outputs from sensor information:\n",
    "```\n",
    "root: TRUE\n",
    "A: 0.9\n",
    "B: False\n",
    "E: 0.2 - 0.8\n",
    "```\n",
    "\n",
    "Your task is to perform successive inference passes to obtain the truth value of a query node. \n",
    "> HINT: use the `node.print()` function as a guide to ensure that the LNN is returning the correct truths. \n",
    "\n",
    "The final query is to return the truth of a **disjunction** of the following propositions:\n",
    "\n",
    "\\begin{equation}(C, D, E)\\end{equation}\n",
    "\n",
    "> NB: use the provided function definition to help you extract the correct truth value bounds\n",
    "\n",
    "<center>\n",
    "    <figure>\n",
    "        <img src=\"./img/experiment/0/graph.png\" width=\"400\" />\n",
    "        <figcaption>Figure 1. Propositional inference</figcaption>\n",
    "    </figure>\n",
    "</center>"
   ]
  },
  {
   "cell_type": "markdown",
   "id": "2ec7efe3",
   "metadata": {},
   "source": [
    "Fill in the codeblock below to construct the graph and reason about all nodes:"
   ]
  },
  {
   "cell_type": "code",
   "execution_count": 1,
   "id": "0e304372",
   "metadata": {
    "tags": []
   },
   "outputs": [
    {
     "name": "stdout",
     "output_type": "stream",
     "text": [
      "OPEN And: ((A → B) ∧ (((C ∧ D) → E) ∧ (E → (C ∧ D))))          TRUE (1.0, 1.0)\n",
      "\n",
      "OPEN Proposition: A                                  APPROX_TRUE (0.9, 0.9)\n",
      "\n",
      "OPEN Proposition: B                                        FALSE (0.0, 0.0)\n",
      "\n",
      "OPEN Proposition: C                                      UNKNOWN (0.0, 1.0)\n",
      "\n",
      "OPEN Proposition: D                                      UNKNOWN (0.0, 1.0)\n",
      "\n",
      "OPEN Proposition: E                                APPROX_UNKNOWN (0.2, 0.8)\n",
      "\n",
      "\n",
      "***************************************************************************\n",
      "                                LNN Model\n",
      "\n",
      "OPEN And: ((A → B) ∧ (((C ∧ D) → E) ∧ (E → (C ∧ D)))) CONTRADICTION (1.0, 0.1)\n",
      "params  α: 1.0,  β: 1.0,  w: [1. 1.]\n",
      "OPEN Iff: (((C ∧ D) → E) ∧ (E → (C ∧ D)))                UNKNOWN (0.0, 1.0)\n",
      "params  α: 1.0,  β: 1.0,  w: [1. 1.]\n",
      "OPEN Implies: (E → (C ∧ D))                        APPROX_UNKNOWN (0.2, 1.0)\n",
      "params  α: 1.0,  β: 1.0,  w: [1. 1.]\n",
      "OPEN Implies: ((C ∧ D) → E)                        APPROX_UNKNOWN (0.2, 1.0)\n",
      "params  α: 1.0,  β: 1.0,  w: [1. 1.]\n",
      "OPEN Proposition: E                                APPROX_UNKNOWN (0.2, 0.8)\n",
      "params  α: 1.0\n",
      "OPEN And: (C ∧ D)                                        UNKNOWN (0.0, 1.0)\n",
      "params  α: 1.0,  β: 1.0,  w: [1. 1.]\n",
      "OPEN Proposition: D                                      UNKNOWN (0.0, 1.0)\n",
      "params  α: 1.0\n",
      "OPEN Proposition: C                                      UNKNOWN (0.0, 1.0)\n",
      "params  α: 1.0\n",
      "OPEN Implies: (A → B)                               APPROX_FALSE (0.1, 0.1)\n",
      "params  α: 1.0,  β: 1.0,  w: [1. 1.]\n",
      "OPEN Proposition: B                                        FALSE (0.0, 0.0)\n",
      "params  α: 1.0\n",
      "OPEN Proposition: A                                  APPROX_TRUE (0.9, 0.9)\n",
      "params  α: 1.0\n",
      "***************************************************************************\n"
     ]
    }
   ],
   "source": [
    "from lnn import Propositions, And, Implies, Iff, Fact, Model, Or\n",
    "\n",
    "# Knowledge - Set up the propositions A, B, C, D, E.\n",
    "# Notebook 1 will be useful for this.\n",
    "# Set up the subpropositions and the full proposition.\n",
    "A, B, C, D, E = Propositions(\"A\", \"B\", \"C\", \"D\", \"E\")\n",
    "IMPLIES=Implies(A, B)\n",
    "AND=And(C, D)\n",
    "IFF=Iff(AND, E)\n",
    "SENTENCE =And(IMPLIES, IFF)\n",
    "\n",
    "# Data - Add the truth values of each node as described above.\n",
    "# Print the values of each leaf node and the sentence as a whole.\n",
    "SENTENCE.add_data(Fact.TRUE)\n",
    "A.add_data(0.9)\n",
    "B.add_data(Fact.FALSE)\n",
    "E.add_data((0.2, 0.8))\n",
    "SENTENCE.print()\n",
    "A.print()\n",
    "B.print()\n",
    "C.print()\n",
    "D.print()\n",
    "E.print()\n",
    "\n",
    "# Set up a model and add the knowledge we have\n",
    "model=Model()\n",
    "model.add_knowledge(SENTENCE)\n",
    "model.add_knowledge(IFF)\n",
    "model.add_knowledge(AND)\n",
    "model.add_knowledge(IMPLIES)\n",
    "model.add_knowledge(A)\n",
    "model.add_knowledge(B)\n",
    "model.add_knowledge(C)\n",
    "model.add_knowledge(D)\n",
    "model.add_knowledge(E)\n",
    "\n",
    "# Reasoning\n",
    "model.infer()\n",
    "model.print(params=True)"
   ]
  },
  {
   "cell_type": "markdown",
   "id": "3702bc4b",
   "metadata": {},
   "source": [
    "### Query\n",
    "Finally, find the state of the **disjunction** between nodes `B`, `D` and `E` using the `query_state` method.\n",
    "\n",
    "<center>\n",
    "    <figure>\n",
    "        <img src=\"./img/experiment/0/query.png\" width=\"200\" />\n",
    "        <figcaption>Figure 5. Perform inference to find the disjunction between nodes B, D and E</figcaption>\n",
    "    </figure>\n",
    "</center>"
   ]
  },
  {
   "cell_type": "code",
   "execution_count": 2,
   "id": "ba7c6bc2",
   "metadata": {},
   "outputs": [],
   "source": [
    "def query_state(node):\n",
    "    round_off = lambda my_list: [float(f\"{_:.1f}\") for _ in my_list]\n",
    "    return f\"{node.state().name}: {tuple(round_off(node.get_data().tolist()))}\""
   ]
  },
  {
   "cell_type": "markdown",
   "id": "94c923cc",
   "metadata": {},
   "source": [
    "Fill in the codeblock below to extract the solution to the query:"
   ]
  },
  {
   "cell_type": "code",
   "execution_count": 3,
   "id": "6db71822",
   "metadata": {},
   "outputs": [
    {
     "data": {
      "text/plain": [
       "'APPROX_UNKNOWN: (0.2, 1.0)'"
      ]
     },
     "execution_count": 3,
     "metadata": {},
     "output_type": "execute_result"
    }
   ],
   "source": [
    "query = Or(C,D,E)\n",
    "\n",
    "query.upward()\n",
    "\n",
    "query_state(query)"
   ]
  },
  {
   "cell_type": "markdown",
   "id": "915e9a5f",
   "metadata": {},
   "source": [
    "## Training\n",
    "Earlier, you should have seen that the data we gave the model is contradictory. We can train model weights to obtain the output we want. \n",
    "\n",
    "By introducing a loss on the contradiction:\n",
    "\n",
    "\\begin{align}\n",
    " Loss = \\lambda \\sum_{\\forall i} \\text{max} (0, L_i - U_i)\n",
    "\\end{align}\n",
    "\n",
    "we can train the LNN to adjust the weights such that all sources of contradictions become downweighted."
   ]
  },
  {
   "cell_type": "code",
   "execution_count": 4,
   "id": "706a59e3",
   "metadata": {},
   "outputs": [
    {
     "name": "stdout",
     "output_type": "stream",
     "text": [
      "\n",
      "***************************************************************************\n",
      "                                LNN Model\n",
      "\n",
      "OPEN And: ((A → B) ∧ (((C ∧ D) → E) ∧ (E → (C ∧ D))))          TRUE (1.0, 1.0)\n",
      "params  α: 1.0,  β: 1.0,  w: [0.55865 1.     ]\n",
      "OPEN Iff: (((C ∧ D) → E) ∧ (E → (C ∧ D)))            APPROX_TRUE (0.5871, 1.0)\n",
      "params  α: 1.0,  β: 1.0,  w: [1. 1.]\n",
      "OPEN Implies: (E → (C ∧ D))                          APPROX_TRUE (0.79355, 1.0)\n",
      "params  α: 1.0,  β: 0.50538,  w: [1.49462 1.49462]\n",
      "OPEN Implies: ((C ∧ D) → E)                          APPROX_TRUE (0.79355, 1.0)\n",
      "params  α: 1.0,  β: 0.50538,  w: [1.49462 1.49462]\n",
      "OPEN Proposition: E                                APPROX_UNKNOWN (0.2, 0.8)\n",
      "params  α: 1.0\n",
      "OPEN And: (C ∧ D)                                        UNKNOWN (0.0, 1.0)\n",
      "params  α: 1.0,  β: 1.0,  w: [2.00773 2.00773]\n",
      "OPEN Proposition: D                                      UNKNOWN (0.0, 1.0)\n",
      "params  α: 1.0\n",
      "OPEN Proposition: C                                      UNKNOWN (0.0, 1.0)\n",
      "params  α: 1.0\n",
      "OPEN Implies: (A → B)                                       TRUE (1.0, 1.0)\n",
      "params  α: 1.0,  β: 0.04836,  w: [1.95164 1.     ]\n",
      "OPEN Proposition: B                                        FALSE (0.0, 0.0)\n",
      "params  α: 1.0\n",
      "OPEN Proposition: A                                  APPROX_TRUE (0.9, 0.9)\n",
      "params  α: 1.0\n",
      "***************************************************************************\n"
     ]
    },
    {
     "name": "stderr",
     "output_type": "stream",
     "text": [
      "/opt/anaconda3/envs/week4_lnn/lib/python3.9/site-packages/torch/optim/adam.py:137: UserWarning: optimizer contains a parameter group with duplicate parameters; in future, this will cause an error; see github.com/pytorch/pytorch/issues/40967 for more information\n",
      "  super(Adam, self).__init__(params, defaults)\n"
     ]
    }
   ],
   "source": [
    "from lnn import Model, Loss, Direction\n",
    "\n",
    "# Train the model in the upward direction and print out the model \n",
    "# and its parameters. How have the model weights changed?\n",
    "model.train(direction=Direction.UPWARD, losses=[Loss.CONTRADICTION])\n",
    "model.print(params=True)"
   ]
  },
  {
   "cell_type": "markdown",
   "id": "104d98ba",
   "metadata": {},
   "source": [
    "Print out the values of each node in the model. Have they changed? How?"
   ]
  },
  {
   "cell_type": "code",
   "execution_count": 5,
   "id": "473fac21",
   "metadata": {},
   "outputs": [
    {
     "name": "stdout",
     "output_type": "stream",
     "text": [
      "OPEN And: ((A → B) ∧ (((C ∧ D) → E) ∧ (E → (C ∧ D))))          TRUE (1.0, 1.0)\n",
      "\n",
      "OPEN And: (C ∧ D)                                        UNKNOWN (0.0, 1.0)\n",
      "\n",
      "OPEN Iff: (((C ∧ D) → E) ∧ (E → (C ∧ D)))            APPROX_TRUE (0.5871, 1.0)\n",
      "\n",
      "OPEN Implies: (A → B)                                       TRUE (1.0, 1.0)\n",
      "\n",
      "OPEN Proposition: A                                  APPROX_TRUE (0.9, 0.9)\n",
      "\n",
      "OPEN Proposition: B                                        FALSE (0.0, 0.0)\n",
      "\n",
      "OPEN Proposition: C                                      UNKNOWN (0.0, 1.0)\n",
      "\n",
      "OPEN Proposition: D                                      UNKNOWN (0.0, 1.0)\n",
      "\n",
      "OPEN Proposition: E                                APPROX_UNKNOWN (0.2, 0.8)\n",
      "\n"
     ]
    }
   ],
   "source": [
    "SENTENCE.print()\n",
    "AND.print()\n",
    "IFF.print()\n",
    "IMPLIES.print()\n",
    "A.print()\n",
    "B.print()\n",
    "C.print()\n",
    "D.print()\n",
    "E.print()"
   ]
  },
  {
   "cell_type": "code",
   "execution_count": 6,
   "id": "00451656",
   "metadata": {},
   "outputs": [
    {
     "data": {
      "text/plain": [
       "'APPROX_UNKNOWN: (0.2, 1.0)'"
      ]
     },
     "execution_count": 6,
     "metadata": {},
     "output_type": "execute_result"
    }
   ],
   "source": [
    "query = Or(C,D,E)\n",
    "\n",
    "query.upward()\n",
    "\n",
    "query_state(query)"
   ]
  },
  {
   "cell_type": "code",
   "execution_count": 7,
   "id": "4223e5d6",
   "metadata": {},
   "outputs": [
    {
     "name": "stdout",
     "output_type": "stream",
     "text": [
      "\n",
      "***************************************************************************\n",
      "                                LNN Model\n",
      "\n",
      "OPEN And: ((A → B) ∧ (((C ∧ D) → E) ∧ (E → (C ∧ D))))          TRUE (1.0, 1.0)\n",
      "params  α: 1.0,  β: 1.0,  w: [0.55865 1.     ]\n",
      "OPEN Iff: (((C ∧ D) → E) ∧ (E → (C ∧ D)))                   TRUE (1.0, 1.0)\n",
      "params  α: 1.0,  β: 1.0,  w: [1. 1.]\n",
      "OPEN Implies: (E → (C ∧ D))                                 TRUE (1.0, 1.0)\n",
      "params  α: 1.0,  β: 0.50538,  w: [1.49462 1.49462]\n",
      "OPEN Implies: ((C ∧ D) → E)                                 TRUE (1.0, 1.0)\n",
      "params  α: 1.0,  β: 0.50538,  w: [1.49462 1.49462]\n",
      "OPEN Proposition: E                                APPROX_UNKNOWN (0.2, 0.8)\n",
      "params  α: 1.0\n",
      "OPEN And: (C ∧ D)                                        UNKNOWN (0.0, 1.0)\n",
      "params  α: 1.0,  β: 1.0,  w: [2.00773 2.00773]\n",
      "OPEN Proposition: D                                      UNKNOWN (0.0, 1.0)\n",
      "params  α: 1.0\n",
      "OPEN Proposition: C                                      UNKNOWN (0.0, 1.0)\n",
      "params  α: 1.0\n",
      "OPEN Implies: (A → B)                                       TRUE (1.0, 1.0)\n",
      "params  α: 1.0,  β: 0.04836,  w: [1.95164 1.     ]\n",
      "OPEN Proposition: B                                        FALSE (0.0, 0.0)\n",
      "params  α: 1.0\n",
      "OPEN Proposition: A                                  APPROX_TRUE (0.9, 0.9)\n",
      "params  α: 1.0\n",
      "***************************************************************************\n"
     ]
    }
   ],
   "source": [
    "model.train(direction=Direction.DOWNWARD, losses=[Loss.CONTRADICTION])\n",
    "model.print(params=True)"
   ]
  },
  {
   "cell_type": "code",
   "execution_count": 8,
   "id": "b9cc11d8",
   "metadata": {},
   "outputs": [
    {
     "name": "stdout",
     "output_type": "stream",
     "text": [
      "OPEN And: ((A → B) ∧ (((C ∧ D) → E) ∧ (E → (C ∧ D))))          TRUE (1.0, 1.0)\n",
      "\n",
      "OPEN And: (C ∧ D)                                        UNKNOWN (0.0, 1.0)\n",
      "\n",
      "OPEN Iff: (((C ∧ D) → E) ∧ (E → (C ∧ D)))                   TRUE (1.0, 1.0)\n",
      "\n",
      "OPEN Implies: (A → B)                                       TRUE (1.0, 1.0)\n",
      "\n",
      "OPEN Proposition: A                                  APPROX_TRUE (0.9, 0.9)\n",
      "\n",
      "OPEN Proposition: B                                        FALSE (0.0, 0.0)\n",
      "\n",
      "OPEN Proposition: C                                      UNKNOWN (0.0, 1.0)\n",
      "\n",
      "OPEN Proposition: D                                      UNKNOWN (0.0, 1.0)\n",
      "\n",
      "OPEN Proposition: E                                APPROX_UNKNOWN (0.2, 0.8)\n",
      "\n"
     ]
    }
   ],
   "source": [
    "SENTENCE.print()\n",
    "AND.print()\n",
    "IFF.print()\n",
    "IMPLIES.print()\n",
    "A.print()\n",
    "B.print()\n",
    "C.print()\n",
    "D.print()\n",
    "E.print()"
   ]
  },
  {
   "cell_type": "code",
   "execution_count": 9,
   "id": "aab4c829",
   "metadata": {
    "scrolled": true
   },
   "outputs": [
    {
     "name": "stdout",
     "output_type": "stream",
     "text": [
      "\n",
      "***************************************************************************\n",
      "                                LNN Model\n",
      "\n",
      "OPEN And: ((A → B) ∧ (((C ∧ D) → E) ∧ (E → (C ∧ D))))          TRUE (1.0, 1.0)\n",
      "params  α: 1.0,  β: 1.0,  w: [0.55865 1.     ]\n",
      "OPEN Iff: (((C ∧ D) → E) ∧ (E → (C ∧ D)))                   TRUE (1.0, 1.0)\n",
      "params  α: 1.0,  β: 1.0,  w: [1. 1.]\n",
      "OPEN Implies: (E → (C ∧ D))                                 TRUE (1.0, 1.0)\n",
      "params  α: 1.0,  β: 0.50538,  w: [1.49462 1.49462]\n",
      "OPEN Implies: ((C ∧ D) → E)                                 TRUE (1.0, 1.0)\n",
      "params  α: 1.0,  β: 0.50538,  w: [1.49462 1.49462]\n",
      "OPEN Proposition: E                                APPROX_UNKNOWN (0.2, 0.8)\n",
      "params  α: 1.0\n",
      "OPEN And: (C ∧ D)                                        UNKNOWN (0.0, 1.0)\n",
      "params  α: 1.0,  β: 1.0,  w: [2.00773 2.00773]\n",
      "OPEN Proposition: D                                      UNKNOWN (0.0, 1.0)\n",
      "params  α: 1.0\n",
      "OPEN Proposition: C                                      UNKNOWN (0.0, 1.0)\n",
      "params  α: 1.0\n",
      "OPEN Implies: (A → B)                                       TRUE (1.0, 1.0)\n",
      "params  α: 1.0,  β: 0.04836,  w: [1.95164 1.     ]\n",
      "OPEN Proposition: B                                        FALSE (0.0, 0.0)\n",
      "params  α: 1.0\n",
      "OPEN Proposition: A                                  APPROX_TRUE (0.9, 0.9)\n",
      "params  α: 1.0\n",
      "***************************************************************************\n"
     ]
    }
   ],
   "source": [
    "model.print(params=True)"
   ]
  },
  {
   "cell_type": "code",
   "execution_count": 10,
   "id": "9b7e6fac",
   "metadata": {},
   "outputs": [
    {
     "name": "stdout",
     "output_type": "stream",
     "text": [
      "OPEN Proposition: A                                  APPROX_TRUE (0.9, 0.9)\n",
      "\n",
      "OPEN Proposition: B                                        FALSE (0.0, 0.0)\n",
      "\n",
      "OPEN Implies: (A → B)                                    UNKNOWN (0.0, 1.0)\n",
      "\n",
      "OPEN Implies: (A → B)                               APPROX_FALSE (0.1, 0.1)\n",
      "\n"
     ]
    }
   ],
   "source": [
    "A, B= Propositions(\"A\", \"B\")\n",
    "IMPLIES=Implies(A, B)\n",
    "A.add_data(0.9)\n",
    "B.add_data(Fact.FALSE)\n",
    "A.print()\n",
    "B.print()\n",
    "IMPLIES.print()\n",
    "model = Model()\n",
    "model.add_knowledge(IMPLIES)\n",
    "model.infer()\n",
    "IMPLIES.print()"
   ]
  },
  {
   "cell_type": "markdown",
   "id": "b639bb84",
   "metadata": {},
   "source": [
    "# Predicate Logic"
   ]
  },
  {
   "cell_type": "markdown",
   "id": "30aac491",
   "metadata": {},
   "source": [
    "We will revisit the friends and movies example from Week 3. We use a simplifed setup:\n",
    "\n",
    "We will have 4 users: $a$, $b$, $c$, $d$.\n",
    "\n",
    "and 2 films: $j$, $l$.\n",
    "\n",
    "**Variables** are $x$, with domain $people$, $y$ with domain $people$ and $u$ with domain $films$\n",
    "\n",
    "We will have **predicates** $F(x,y)$ for *friends* and $L(x, u)$ for *likes*\n",
    "\n",
    "**Knowledge**\n",
    "\n",
    "- $\\forall xyu (F(x, y) \\land L(x, u)) \\implies L(y, u)$\n",
    "\n",
    "**Data**\n",
    "\n",
    "$\\mathcal{F} = \\{(a, b), (a, c), (b,c), (c, d)\\}$\n",
    "\n",
    "$\\mathcal{L} = \\{(a, j), (a, l),  (b, l), (c, l), (d, j)\\}$\n",
    "\n",
    "- $F(x, y)$ for $(x, y) \\in \\mathcal{F}$\n",
    "- $\\neg F(x, y)$ for $(x, y) \\not\\in \\mathcal{F}$\n",
    "- $L(x, u)$ for $(x, u) \\in \\mathcal{L}$\n",
    "- $\\neg L(c, j)$\n",
    "\n",
    "We can see this is not strictly logically satisfiable, since we have $F(a, c)$, $L(a, j)$, but also $\\neg L(c, j)$.\n",
    "\n",
    "We start by initializing an empty model:\n"
   ]
  },
  {
   "cell_type": "code",
   "execution_count": 22,
   "id": "c98e1c8c",
   "metadata": {},
   "outputs": [],
   "source": [
    "# Initialize an empty model\n",
    "from lnn import Model\n",
    "\n",
    "model = Model()"
   ]
  },
  {
   "cell_type": "markdown",
   "id": "53efd5a6",
   "metadata": {},
   "source": [
    "Then we go on to set up predicates and variables. "
   ]
  },
  {
   "cell_type": "code",
   "execution_count": 23,
   "id": "aac08f6d",
   "metadata": {},
   "outputs": [],
   "source": [
    "# Set up predicates for our model\n",
    "from lnn import Predicates, Variables\n",
    "\n",
    "Friends = Predicates('Friends', arity=2)\n",
    "Likes = Predicates('Likes', arity=2)\n",
    "x, y, u = Variables('x', 'y', 'u')"
   ]
  },
  {
   "cell_type": "markdown",
   "id": "4999ac8a",
   "metadata": {},
   "source": [
    "Encode the knowledge (see above) about the world using neural connectives."
   ]
  },
  {
   "cell_type": "code",
   "execution_count": 24,
   "id": "cebd5efc",
   "metadata": {},
   "outputs": [],
   "source": [
    "from lnn import Not, And, Implies\n",
    "\n",
    "Friends_like_Films = Implies(And(Friends(x, y), Likes(x, u)), Likes(y, u))\n"
   ]
  },
  {
   "cell_type": "markdown",
   "id": "5f9728ce",
   "metadata": {},
   "source": [
    "Add the knowledge to the model with a closed world assumption. Have a look at the Predicate Logic notebook for a hint."
   ]
  },
  {
   "cell_type": "code",
   "execution_count": 25,
   "id": "783e422c",
   "metadata": {},
   "outputs": [],
   "source": [
    "from lnn import World\n",
    "\n",
    "formulae = [\n",
    "    Friends_like_Films\n",
    "]\n",
    "model.add_knowledge(*formulae, world=World.AXIOM)"
   ]
  },
  {
   "cell_type": "markdown",
   "id": "3cbe06df",
   "metadata": {},
   "source": [
    "We now need to add facts to the model. Which pairs of people are friends? Which people like which films? Have a look at the Predicate Logic notebook for a hint."
   ]
  },
  {
   "cell_type": "code",
   "execution_count": 26,
   "id": "fdc701c5",
   "metadata": {},
   "outputs": [
    {
     "name": "stdout",
     "output_type": "stream",
     "text": [
      "\n",
      "***************************************************************************\n",
      "                                LNN Model\n",
      "\n",
      "AXIOM Implies: ((Friends(0, 1) ∧ Likes(0, 2)) → Likes(1, 2)) \n",
      "\n",
      "OPEN And: (Friends(0, 1) ∧ Likes(0, 2)) \n",
      "\n",
      "OPEN Predicate: Likes \n",
      "('c', 'l')                                                  TRUE (1.0, 1.0)\n",
      "('a', 'j')                                                  TRUE (1.0, 1.0)\n",
      "('b', 'l')                                                  TRUE (1.0, 1.0)\n",
      "('c', 'j')                                                 FALSE (0.0, 0.0)\n",
      "('a', 'l')                                                  TRUE (1.0, 1.0)\n",
      "('d', 'j')                                                  TRUE (1.0, 1.0)\n",
      "\n",
      "OPEN Predicate: Friends \n",
      "('b', 'c')                                                  TRUE (1.0, 1.0)\n",
      "('a', 'c')                                                  TRUE (1.0, 1.0)\n",
      "('c', 'd')                                                  TRUE (1.0, 1.0)\n",
      "('a', 'b')                                                  TRUE (1.0, 1.0)\n",
      "\n",
      "***************************************************************************\n"
     ]
    }
   ],
   "source": [
    "from lnn import Fact\n",
    "\n",
    "# add data to the model\n",
    "model.add_data({\n",
    "    Friends: {\n",
    "        ('a', 'b'):Fact.TRUE,\n",
    "        ('a', 'c'):Fact.TRUE,\n",
    "        ('b', 'c'):Fact.TRUE,\n",
    "        ('c', 'd'):Fact.TRUE,\n",
    "    }, \n",
    "    Likes: {\n",
    "        ('a', 'j'):Fact.TRUE,\n",
    "        ('a', 'l'):Fact.TRUE,\n",
    "        ('b', 'l'):Fact.TRUE,\n",
    "        ('c', 'l'):Fact.TRUE,\n",
    "        ('d', 'j'):Fact.TRUE,\n",
    "        ('c', 'j'):Fact.FALSE,\n",
    "    }, \n",
    "    })\n",
    "model.print()"
   ]
  },
  {
   "cell_type": "markdown",
   "id": "23dea3f2",
   "metadata": {},
   "source": [
    "Run inference over the model and print the model out. What do you see?"
   ]
  },
  {
   "cell_type": "code",
   "execution_count": 27,
   "id": "38430fda",
   "metadata": {},
   "outputs": [
    {
     "name": "stdout",
     "output_type": "stream",
     "text": [
      "\n",
      "***************************************************************************\n",
      "                                LNN Model\n",
      "\n",
      "AXIOM Implies: ((Friends(0, 1) ∧ Likes(0, 2)) → Likes(1, 2)) \n",
      "params  α: 1.0,  β: 1.0,  w: [1. 1.]\n",
      "('a', 'a', 'j')                                             TRUE (1.0, 1.0)\n",
      "('d', 'c', 'j')                                             TRUE (1.0, 1.0)\n",
      "('c', 'b', 'l')                                             TRUE (1.0, 1.0)\n",
      "('b', 'a', 'j')                                             TRUE (1.0, 1.0)\n",
      "('b', 'c', 'l')                                             TRUE (1.0, 1.0)\n",
      "('c', 'c', 'j')                                             TRUE (1.0, 1.0)\n",
      "('d', 'b', 'l')                                             TRUE (1.0, 1.0)\n",
      "('c', 'd', 'l')                                             TRUE (1.0, 1.0)\n",
      "('a', 'b', 'l')                                             TRUE (1.0, 1.0)\n",
      "('a', 'c', 'j')                                    CONTRADICTION (1.0, 0.0)\n",
      "('b', 'b', 'l')                                             TRUE (1.0, 1.0)\n",
      "('c', 'a', 'l')                                             TRUE (1.0, 1.0)\n",
      "('c', 'b', 'j')                                             TRUE (1.0, 1.0)\n",
      "('b', 'c', 'j')                                             TRUE (1.0, 1.0)\n",
      "('d', 'b', 'j')                                             TRUE (1.0, 1.0)\n",
      "('a', 'd', 'l')                                             TRUE (1.0, 1.0)\n",
      "('d', 'a', 'l')                                             TRUE (1.0, 1.0)\n",
      "('d', 'd', 'j')                                             TRUE (1.0, 1.0)\n",
      "('b', 'd', 'l')                                             TRUE (1.0, 1.0)\n",
      "('c', 'd', 'j')                                             TRUE (1.0, 1.0)\n",
      "('a', 'a', 'l')                                             TRUE (1.0, 1.0)\n",
      "('a', 'b', 'j')                                             TRUE (1.0, 1.0)\n",
      "('d', 'c', 'l')                                             TRUE (1.0, 1.0)\n",
      "('b', 'a', 'l')                                             TRUE (1.0, 1.0)\n",
      "('b', 'b', 'j')                                             TRUE (1.0, 1.0)\n",
      "('c', 'c', 'l')                                             TRUE (1.0, 1.0)\n",
      "('a', 'd', 'j')                                             TRUE (1.0, 1.0)\n",
      "('c', 'a', 'j')                                             TRUE (1.0, 1.0)\n",
      "('d', 'a', 'j')                                             TRUE (1.0, 1.0)\n",
      "('b', 'd', 'j')                                             TRUE (1.0, 1.0)\n",
      "('a', 'c', 'l')                                             TRUE (1.0, 1.0)\n",
      "('d', 'd', 'l')                                             TRUE (1.0, 1.0)\n",
      "\n",
      "OPEN And: (Friends(0, 1) ∧ Likes(0, 2)) \n",
      "params  α: 1.0,  β: 1.0,  w: [1. 1.]\n",
      "('d', 'c', 'j')                                            FALSE (0.0, 0.0)\n",
      "('c', 'b', 'l')                                          UNKNOWN (0.0, 1.0)\n",
      "('b', 'c', 'l')                                             TRUE (1.0, 1.0)\n",
      "('c', 'c', 'j')                                            FALSE (0.0, 0.0)\n",
      "('c', 'd', 'l')                                             TRUE (1.0, 1.0)\n",
      "('a', 'b', 'l')                                             TRUE (1.0, 1.0)\n",
      "('a', 'c', 'j')                                             TRUE (1.0, 1.0)\n",
      "('b', 'b', 'l')                                          UNKNOWN (0.0, 1.0)\n",
      "('c', 'b', 'j')                                            FALSE (0.0, 0.0)\n",
      "('b', 'c', 'j')                                            FALSE (0.0, 0.0)\n",
      "('d', 'b', 'j')                                          UNKNOWN (0.0, 1.0)\n",
      "('a', 'd', 'l')                                          UNKNOWN (0.0, 1.0)\n",
      "('d', 'd', 'j')                                          UNKNOWN (0.0, 1.0)\n",
      "('b', 'd', 'l')                                          UNKNOWN (0.0, 1.0)\n",
      "('c', 'd', 'j')                                            FALSE (0.0, 0.0)\n",
      "('a', 'b', 'j')                                             TRUE (1.0, 1.0)\n",
      "('c', 'c', 'l')                                          UNKNOWN (0.0, 1.0)\n",
      "('a', 'd', 'j')                                          UNKNOWN (0.0, 1.0)\n",
      "('a', 'c', 'l')                                             TRUE (1.0, 1.0)\n",
      "('d', 'c', 'l')                                            FALSE (0.0, 0.0)\n",
      "('d', 'a', 'j')                                          UNKNOWN (0.0, 1.0)\n",
      "('d', 'b', 'l')                                          UNKNOWN (0.0, 1.0)\n",
      "('d', 'a', 'l')                                          UNKNOWN (0.0, 1.0)\n",
      "('c', 'a', 'j')                                          UNKNOWN (0.0, 1.0)\n",
      "('c', 'a', 'l')                                          UNKNOWN (0.0, 1.0)\n",
      "('b', 'a', 'j')                                          UNKNOWN (0.0, 1.0)\n",
      "('b', 'b', 'j')                                          UNKNOWN (0.0, 1.0)\n",
      "('b', 'a', 'l')                                          UNKNOWN (0.0, 1.0)\n",
      "('b', 'd', 'j')                                          UNKNOWN (0.0, 1.0)\n",
      "('a', 'a', 'j')                                          UNKNOWN (0.0, 1.0)\n",
      "('a', 'a', 'l')                                          UNKNOWN (0.0, 1.0)\n",
      "('d', 'd', 'l')                                          UNKNOWN (0.0, 1.0)\n",
      "\n",
      "OPEN Predicate: Likes \n",
      "params  α: 1.0\n",
      "('c', 'l')                                                  TRUE (1.0, 1.0)\n",
      "('a', 'j')                                                  TRUE (1.0, 1.0)\n",
      "('b', 'l')                                                  TRUE (1.0, 1.0)\n",
      "('c', 'j')                                                 FALSE (0.0, 0.0)\n",
      "('a', 'l')                                                  TRUE (1.0, 1.0)\n",
      "('d', 'j')                                                  TRUE (1.0, 1.0)\n",
      "('b', 'j')                                         CONTRADICTION (1.0, 0.0)\n",
      "('d', 'l')                                                  TRUE (1.0, 1.0)\n",
      "\n",
      "OPEN Predicate: Friends \n",
      "params  α: 1.0\n",
      "('b', 'c')                                         CONTRADICTION (1.0, 0.0)\n",
      "('a', 'c')                                                  TRUE (1.0, 1.0)\n",
      "('c', 'd')                                                  TRUE (1.0, 1.0)\n",
      "('a', 'b')                                                  TRUE (1.0, 1.0)\n",
      "('c', 'c')                                               UNKNOWN (0.0, 1.0)\n",
      "('d', 'c')                                                 FALSE (0.0, 0.0)\n",
      "('a', 'd')                                               UNKNOWN (0.0, 1.0)\n",
      "('b', 'd')                                               UNKNOWN (0.0, 1.0)\n",
      "('d', 'd')                                               UNKNOWN (0.0, 1.0)\n",
      "('c', 'b')                                               UNKNOWN (0.0, 1.0)\n",
      "('b', 'b')                                               UNKNOWN (0.0, 1.0)\n",
      "('d', 'b')                                               UNKNOWN (0.0, 1.0)\n",
      "\n",
      "***************************************************************************\n"
     ]
    }
   ],
   "source": [
    "model.infer()\n",
    "model.print(params=True)"
   ]
  },
  {
   "cell_type": "markdown",
   "id": "3923a9a1",
   "metadata": {},
   "source": [
    "Train the model using the contradiction loss (have a look at the notebooks to remind yourself of this)."
   ]
  },
  {
   "cell_type": "code",
   "execution_count": 28,
   "id": "9a9c434a",
   "metadata": {
    "scrolled": true
   },
   "outputs": [
    {
     "data": {
      "text/plain": [
       "(([3.0,\n",
       "   2.75,\n",
       "   2.5,\n",
       "   2.249999761581421,\n",
       "   1.999999761581421,\n",
       "   1.749999761581421,\n",
       "   1.4999996423721313,\n",
       "   1.2499995231628418,\n",
       "   0.9999995231628418,\n",
       "   0.749999463558197,\n",
       "   0.49999988079071045,\n",
       "   0.44999992847442627,\n",
       "   0.3999999761581421,\n",
       "   0.34999996423721313,\n",
       "   0.2999999523162842,\n",
       "   0.25,\n",
       "   0.19999998807907104,\n",
       "   0.1499999761581421,\n",
       "   0.10000002384185791,\n",
       "   0.050000011920928955,\n",
       "   0.0],\n",
       "  [[3.0],\n",
       "   [2.75],\n",
       "   [2.5],\n",
       "   [2.249999761581421],\n",
       "   [1.999999761581421],\n",
       "   [1.749999761581421],\n",
       "   [1.4999996423721313],\n",
       "   [1.2499995231628418],\n",
       "   [0.9999995231628418],\n",
       "   [0.749999463558197],\n",
       "   [0.49999988079071045],\n",
       "   [0.44999992847442627],\n",
       "   [0.3999999761581421],\n",
       "   [0.34999996423721313],\n",
       "   [0.2999999523162842],\n",
       "   [0.25],\n",
       "   [0.19999998807907104],\n",
       "   [0.1499999761581421],\n",
       "   [0.10000002384185791],\n",
       "   [0.050000011920928955],\n",
       "   [0.0]]),\n",
       " [0.0,\n",
       "  17.5,\n",
       "  16.999998092651367,\n",
       "  16.5,\n",
       "  16.0,\n",
       "  15.5,\n",
       "  14.999999046325684,\n",
       "  14.499998092651367,\n",
       "  14.0,\n",
       "  13.499999046325684,\n",
       "  14.499998092651367,\n",
       "  13.94999885559082,\n",
       "  13.399999618530273,\n",
       "  12.850000381469727,\n",
       "  12.300000190734863,\n",
       "  11.75,\n",
       "  11.199999809265137,\n",
       "  10.649999618530273,\n",
       "  10.100000381469727,\n",
       "  9.550000190734863,\n",
       "  9.0])"
      ]
     },
     "execution_count": 28,
     "metadata": {},
     "output_type": "execute_result"
    }
   ],
   "source": [
    "from lnn import Direction, Loss\n",
    "model.train(losses=Loss.CONTRADICTION)"
   ]
  },
  {
   "cell_type": "markdown",
   "id": "ead0e3bc",
   "metadata": {},
   "source": [
    "Print out the model after training. What do you notice has changed from before training?"
   ]
  },
  {
   "cell_type": "code",
   "execution_count": 29,
   "id": "c4f96408",
   "metadata": {},
   "outputs": [
    {
     "name": "stdout",
     "output_type": "stream",
     "text": [
      "\n",
      "***************************************************************************\n",
      "                                LNN Model\n",
      "\n",
      "AXIOM Implies: ((Friends(0, 1) ∧ Likes(0, 2)) → Likes(1, 2)) \n",
      "params  α: 1.0,  β: 0.0,  w: [1. 1.]\n",
      "('a', 'a', 'j')                                             TRUE (1.0, 1.0)\n",
      "('d', 'c', 'j')                                             TRUE (1.0, 1.0)\n",
      "('c', 'b', 'l')                                             TRUE (1.0, 1.0)\n",
      "('b', 'a', 'j')                                             TRUE (1.0, 1.0)\n",
      "('b', 'c', 'l')                                             TRUE (1.0, 1.0)\n",
      "('c', 'c', 'j')                                             TRUE (1.0, 1.0)\n",
      "('d', 'b', 'l')                                             TRUE (1.0, 1.0)\n",
      "('c', 'd', 'l')                                             TRUE (1.0, 1.0)\n",
      "('a', 'b', 'l')                                             TRUE (1.0, 1.0)\n",
      "('a', 'c', 'j')                                             TRUE (1.0, 1.0)\n",
      "('b', 'b', 'l')                                             TRUE (1.0, 1.0)\n",
      "('c', 'a', 'l')                                             TRUE (1.0, 1.0)\n",
      "('c', 'b', 'j')                                             TRUE (1.0, 1.0)\n",
      "('b', 'c', 'j')                                             TRUE (1.0, 1.0)\n",
      "('d', 'b', 'j')                                             TRUE (1.0, 1.0)\n",
      "('a', 'd', 'l')                                             TRUE (1.0, 1.0)\n",
      "('d', 'a', 'l')                                             TRUE (1.0, 1.0)\n",
      "('d', 'd', 'j')                                             TRUE (1.0, 1.0)\n",
      "('b', 'd', 'l')                                             TRUE (1.0, 1.0)\n",
      "('c', 'd', 'j')                                             TRUE (1.0, 1.0)\n",
      "('a', 'a', 'l')                                             TRUE (1.0, 1.0)\n",
      "('a', 'b', 'j')                                             TRUE (1.0, 1.0)\n",
      "('d', 'c', 'l')                                             TRUE (1.0, 1.0)\n",
      "('b', 'a', 'l')                                             TRUE (1.0, 1.0)\n",
      "('b', 'b', 'j')                                             TRUE (1.0, 1.0)\n",
      "('c', 'c', 'l')                                             TRUE (1.0, 1.0)\n",
      "('a', 'd', 'j')                                             TRUE (1.0, 1.0)\n",
      "('c', 'a', 'j')                                             TRUE (1.0, 1.0)\n",
      "('d', 'a', 'j')                                             TRUE (1.0, 1.0)\n",
      "('b', 'd', 'j')                                             TRUE (1.0, 1.0)\n",
      "('a', 'c', 'l')                                             TRUE (1.0, 1.0)\n",
      "('d', 'd', 'l')                                             TRUE (1.0, 1.0)\n",
      "\n",
      "OPEN And: (Friends(0, 1) ∧ Likes(0, 2)) \n",
      "params  α: 1.0,  β: 1.0,  w: [1. 1.]\n",
      "('d', 'c', 'j')                                          UNKNOWN (0.0, 1.0)\n",
      "('c', 'b', 'l')                                          UNKNOWN (0.0, 1.0)\n",
      "('b', 'c', 'l')                                             TRUE (1.0, 1.0)\n",
      "('c', 'c', 'j')                                            FALSE (0.0, 0.0)\n",
      "('c', 'd', 'l')                                             TRUE (1.0, 1.0)\n",
      "('a', 'b', 'l')                                             TRUE (1.0, 1.0)\n",
      "('a', 'c', 'j')                                             TRUE (1.0, 1.0)\n",
      "('b', 'b', 'l')                                          UNKNOWN (0.0, 1.0)\n",
      "('c', 'b', 'j')                                            FALSE (0.0, 0.0)\n",
      "('b', 'c', 'j')                                          UNKNOWN (0.0, 1.0)\n",
      "('d', 'b', 'j')                                          UNKNOWN (0.0, 1.0)\n",
      "('a', 'd', 'l')                                          UNKNOWN (0.0, 1.0)\n",
      "('d', 'd', 'j')                                          UNKNOWN (0.0, 1.0)\n",
      "('b', 'd', 'l')                                          UNKNOWN (0.0, 1.0)\n",
      "('c', 'd', 'j')                                            FALSE (0.0, 0.0)\n",
      "('a', 'b', 'j')                                             TRUE (1.0, 1.0)\n",
      "('c', 'c', 'l')                                          UNKNOWN (0.0, 1.0)\n",
      "('a', 'd', 'j')                                          UNKNOWN (0.0, 1.0)\n",
      "('a', 'c', 'l')                                             TRUE (1.0, 1.0)\n",
      "('d', 'c', 'l')                                          UNKNOWN (0.0, 1.0)\n",
      "('d', 'a', 'j')                                          UNKNOWN (0.0, 1.0)\n",
      "('d', 'b', 'l')                                          UNKNOWN (0.0, 1.0)\n",
      "('d', 'a', 'l')                                          UNKNOWN (0.0, 1.0)\n",
      "('c', 'a', 'j')                                          UNKNOWN (0.0, 1.0)\n",
      "('c', 'a', 'l')                                          UNKNOWN (0.0, 1.0)\n",
      "('b', 'a', 'j')                                          UNKNOWN (0.0, 1.0)\n",
      "('b', 'b', 'j')                                          UNKNOWN (0.0, 1.0)\n",
      "('b', 'a', 'l')                                          UNKNOWN (0.0, 1.0)\n",
      "('b', 'd', 'j')                                          UNKNOWN (0.0, 1.0)\n",
      "('a', 'a', 'j')                                          UNKNOWN (0.0, 1.0)\n",
      "('a', 'a', 'l')                                          UNKNOWN (0.0, 1.0)\n",
      "('d', 'd', 'l')                                          UNKNOWN (0.0, 1.0)\n",
      "\n",
      "OPEN Predicate: Likes \n",
      "params  α: 1.0\n",
      "('c', 'l')                                                  TRUE (1.0, 1.0)\n",
      "('a', 'j')                                                  TRUE (1.0, 1.0)\n",
      "('b', 'l')                                                  TRUE (1.0, 1.0)\n",
      "('c', 'j')                                                 FALSE (0.0, 0.0)\n",
      "('a', 'l')                                                  TRUE (1.0, 1.0)\n",
      "('d', 'j')                                                  TRUE (1.0, 1.0)\n",
      "('b', 'j')                                               UNKNOWN (0.0, 1.0)\n",
      "('d', 'l')                                               UNKNOWN (0.0, 1.0)\n",
      "\n",
      "OPEN Predicate: Friends \n",
      "params  α: 1.0\n",
      "('b', 'c')                                                  TRUE (1.0, 1.0)\n",
      "('a', 'c')                                                  TRUE (1.0, 1.0)\n",
      "('c', 'd')                                                  TRUE (1.0, 1.0)\n",
      "('a', 'b')                                                  TRUE (1.0, 1.0)\n",
      "('c', 'c')                                               UNKNOWN (0.0, 1.0)\n",
      "('d', 'c')                                               UNKNOWN (0.0, 1.0)\n",
      "('a', 'd')                                               UNKNOWN (0.0, 1.0)\n",
      "('b', 'd')                                               UNKNOWN (0.0, 1.0)\n",
      "('d', 'd')                                               UNKNOWN (0.0, 1.0)\n",
      "('c', 'b')                                               UNKNOWN (0.0, 1.0)\n",
      "('b', 'b')                                               UNKNOWN (0.0, 1.0)\n",
      "('d', 'b')                                               UNKNOWN (0.0, 1.0)\n",
      "\n",
      "***************************************************************************\n"
     ]
    }
   ],
   "source": [
    "model.print(params=True)"
   ]
  }
 ],
 "metadata": {
  "kernelspec": {
   "display_name": "Python 3 (ipykernel)",
   "language": "python",
   "name": "python3"
  },
  "language_info": {
   "codemirror_mode": {
    "name": "ipython",
    "version": 3
   },
   "file_extension": ".py",
   "mimetype": "text/x-python",
   "name": "python",
   "nbconvert_exporter": "python",
   "pygments_lexer": "ipython3",
   "version": "3.7.10"
  }
 },
 "nbformat": 4,
 "nbformat_minor": 5
}
